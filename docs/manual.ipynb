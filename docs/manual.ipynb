{
 "cells": [
  {
   "cell_type": "markdown",
   "metadata": {},
   "source": [
    "# Installation"
   ]
  },
  {
   "cell_type": "markdown",
   "metadata": {},
   "source": [
    "## Requirements"
   ]
  },
  {
   "cell_type": "markdown",
   "metadata": {},
   "source": [
    "\n",
    "* **Linux OS**\n",
    "* **Python3** <br>\n",
    " *  **Numpy** <br>\n",
    " *  **Matplotlib** <br>\n",
    " *  **Xlib** (sudo pip install svn+https://svn.code.sf.net/p/python-xlib/code/trunk/)\n",
    " *  **Sounddevice** (http://python-sounddevice.readthedocs.io/en/0.3.3/)"
   ]
  },
  {
   "cell_type": "markdown",
   "metadata": {},
   "source": [
    "When you have installed the above dependencies, you can download [Audiometer](https://github.com/spatialaudio/audiometer) by making a git clone:"
   ]
  },
  {
   "cell_type": "markdown",
   "metadata": {},
   "source": [
    "git clone https://github.com/spatialaudio/audiometer.git"
   ]
  },
  {
   "cell_type": "markdown",
   "metadata": {},
   "source": [
    "## Select your soundcard"
   ]
  },
  {
   "cell_type": "markdown",
   "metadata": {},
   "source": [
    "To get a list of supported devices type the command from a terminal:\n"
   ]
  },
  {
   "cell_type": "markdown",
   "metadata": {},
   "source": [
    "python3 -m sounddevice"
   ]
  },
  {
   "cell_type": "markdown",
   "metadata": {},
   "source": [
    "Now, you should see something like this:"
   ]
  },
  {
   "cell_type": "markdown",
   "metadata": {},
   "source": [
    "   0 HDA Intel: ALC662 rev1 Analog (hw:0,0), ALSA (2 in, 2 out) <br>\n",
    "   1 HDA Intel: ALC662 rev1 Digital (hw:0,1), ALSA (0 in, 2 out) <br>\n",
    "   2 HDA Intel: HDMI 0 (hw:0,3), ALSA (0 in, 8 out) <br>\n",
    "   3 sysdefault, ALSA (128 in, 128 out) <br>\n",
    "   4 front, ALSA (0 in, 2 out) <br> \n",
    "   5 surround40, ALSA (0 in, 2 out) <br>\n",
    "   6 surround51, ALSA (0 in, 2 out) <br>\n",
    "   7 surround71, ALSA (0 in, 2 out) <br>\n",
    "   8 iec958, ALSA (0 in, 2 out) <br>\n",
    "   9 spdif, ALSA (0 in, 2 out) <br>\n",
    "  10 hdmi, ALSA (0 in, 8 out) <br>\n",
    " *11 default, ALSA (128 in, 128 out) <br>\n",
    "  12 dmix, ALSA (0 in, 2 out) <br>\n",
    "  13 /dev/dsp, OSS (16 in, 16 out) <br>"
   ]
  },
  {
   "cell_type": "markdown",
   "metadata": {},
   "source": [
    "The left number is the Device ID (e.g. 0,1,2,3,4...). Memorize the Device ID, which you want to use for the audiometer. <br>"
   ]
  },
  {
   "cell_type": "markdown",
   "metadata": {},
   "source": [
    "# Usage"
   ]
  },
  {
   "cell_type": "markdown",
   "metadata": {},
   "source": [
    "** *The audiometer software doesn't work correctly without a proper calibration!* **"
   ]
  },
  {
   "cell_type": "markdown",
   "metadata": {},
   "source": [
    "## Why calibration?"
   ]
  },
  {
   "cell_type": "markdown",
   "metadata": {},
   "source": [
    "Each soundcard has its own sound control. Therefore, the tone presentation of different soundcards will vary in their loudness. It is necessary to calibrate the audiometer on valid standards, for example ISO389-1."
   ]
  },
  {
   "cell_type": "markdown",
   "metadata": {},
   "source": [
    "## My way to calibrate"
   ]
  },
  {
   "cell_type": "markdown",
   "metadata": {},
   "source": [
    "I got a full-equipped workable audiometer from http://www.mack-team.de/index.php/hno-heilkunde/audiometriemain/16-computer-audiometer/138-audiometer-ear3-0 . In this case I don't put on the Beyerdynamic DT48A.01 headphones on my head but on an artifical head (see picture below). I chose one fix dBHL value in the EAR3.0 software and measured the dBFS values from the artificial head for each important frequency. In the next step I connected the headphones in one of my soundcards and started my audiometer software. I measured than the dBFS values from the articficial head at the same frequencies again. The difference between the 1. and 2. measured dBFS value is the correction value for this frequency.  "
   ]
  },
  {
   "cell_type": "markdown",
   "metadata": {},
   "source": [
    "<img src=\"images/jack.jpg\" alt=\"jack\" style=\"width: 600px;\"/>"
   ]
  },
  {
   "cell_type": "markdown",
   "metadata": {},
   "source": [
    "## Calibration for the Focusrite Scarlett 2i2 Souncard and Beyerdynamic DT48A.01 earphones"
   ]
  },
  {
   "cell_type": "markdown",
   "metadata": {},
   "source": [
    "Measured by max. pc-sound and full-scaled earphone controller "
   ]
  },
  {
   "cell_type": "markdown",
   "metadata": {},
   "source": [
    "| Frequency/Hz | Reference(0dBHL)/dBFS | Correction value |\n",
    "|:------------:|:---------------------:|:----------------:|\n",
    "|     125      |      -81              |       11         |\n",
    "|     250      |      -92              |       6          |\n",
    "|     500      |      -80              |      -12         |\n",
    "|     750      |      -85              |      -11         |\n",
    "|     1000     |      -84              |      -10         |\n",
    "|     1500     |      -82              |      -11         |\n",
    "|     2000     |      -90              |      -4          |\n",
    "|     3000     |      -94              |       3          |\n",
    "|     4000     |      -91              |       4          |\n",
    "|     6000     |      -70              |      -12         |\n",
    "|     8000     |      -76              |      -6          |\n",
    "\n"
   ]
  },
  {
   "cell_type": "markdown",
   "metadata": {},
   "source": [
    "## Start the hearing test"
   ]
  },
  {
   "cell_type": "markdown",
   "metadata": {},
   "source": [
    "** *Before you start the hearing test you have to understand all software-specific instructions below!* **"
   ]
  },
  {
   "cell_type": "markdown",
   "metadata": {},
   "source": [
    "1.) At the beginning of each new frequency starts a test tone with a infinite duration to familiarize you with this frequency. Choose a **clearly audible** loudness with the arrow keys on your keyboard (right: the loudness get higher, left: the loudness get lower) and confirm it with the space key when you feel comfortable with. <br>\n",
    "\n",
    "2.) Click the left mouse button once to start the hearing test at this frequency\n",
    "\n",
    "3.) If you hear the presented tone click the left mouse button and **hold it on as long as the tone is audible for you**. Afterwards release the left mouse button and wait for the next tone presentation.\n",
    "\n",
    "4.) Is your threshold determinated at this frequency, the procedure begins again from 1.) with another frequency."
   ]
  },
  {
   "cell_type": "markdown",
   "metadata": {},
   "source": [
    "Navigate from a terminal in the audiometer directory and and start the hearing test by typing the following line:"
   ]
  },
  {
   "cell_type": "markdown",
   "metadata": {},
   "source": [
    "./ascending_method --device Your_Device_ID"
   ]
  },
  {
   "cell_type": "markdown",
   "metadata": {},
   "source": [
    "The results (audiogram + raw data) are in the audiometer/results directory named with the time and date."
   ]
  },
  {
   "cell_type": "markdown",
   "metadata": {},
   "source": [
    "## Configure your own hearing test"
   ]
  },
  {
   "cell_type": "markdown",
   "metadata": {},
   "source": [
    "Feel free to adjust the parameters of the hearing test by your own. You can use the following arguments to change the hearing test settings:"
   ]
  },
  {
   "cell_type": "markdown",
   "metadata": {},
   "source": [
    "./ascending_method **--argument** parameter"
   ]
  },
  {
   "cell_type": "markdown",
   "metadata": {},
   "source": [
    "--device <br>\n",
    "--beginning-fam-level <br>\n",
    "--attack <br>\n",
    "--release <br>\n",
    "--tone-duration <br>\n",
    "--tolerance <br>\n",
    "--pause-time <br>\n",
    "--earsides <br>\n",
    "--small-level-increment <br>\n",
    "--large-level-increment <br>\n",
    "--small-level-decrement <br>\n",
    "--large-level-decrement <br>\n",
    "--start-level-familiar <br>\n",
    "--freqs <br>\n",
    "--conduction <br>\n",
    "--masking <br>\n",
    "--results-path <br>\n",
    "--filename <br>\n",
    "--carry-on <br>\n",
    "--logging <br>\n",
    "--cal125 <br>\n",
    "--cal250 <br>\n",
    "--cal500 <br>\n",
    "--cal750 <br>\n",
    "--cal1000 <br>\n",
    "--cal1500 <br>\n",
    "--cal2000 <br>\n",
    "--cal3000 <br>\n",
    "--cal4000 <br>\n",
    "--cal6000 <br>\n",
    "--cal8000 <br>"
   ]
  }
 ],
 "metadata": {
  "kernelspec": {
   "display_name": "Python 3",
   "language": "python",
   "name": "python3"
  },
  "language_info": {
   "codemirror_mode": {
    "name": "ipython",
    "version": 3
   },
   "file_extension": ".py",
   "mimetype": "text/x-python",
   "name": "python",
   "nbconvert_exporter": "python",
   "pygments_lexer": "ipython3",
   "version": "3.4.3+"
  }
 },
 "nbformat": 4,
 "nbformat_minor": 0
}
