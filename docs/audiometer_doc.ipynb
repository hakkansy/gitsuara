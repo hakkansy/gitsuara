{
 "cells": [
  {
   "cell_type": "markdown",
   "metadata": {},
   "source": [
    "# Audiometer"
   ]
  },
  {
   "cell_type": "markdown",
   "metadata": {},
   "source": [
    "## 1 What is an audiometer?"
   ]
  },
  {
   "cell_type": "markdown",
   "metadata": {},
   "source": [
    "An audiometer is a device which evaluates the hearing ability. The hearing ability is characterized by the intensity and frequency range of sound that the human ear is capable to detect. Therefore, the audiometer plays pure tones of different frequency and intensity through a earspeaker, bone conduction hearing aid or a loudspeaker. The sequence of measurement is defined by the standard ISO EN 8253 1-3. The technical standard is described in ISO EN 60645 1-3. Furthermore, audiometers have to meet the requirements of calibration according to the series of standards ISO 389. You can find the list of standards in chapter 6."
   ]
  },
  {
   "cell_type": "markdown",
   "metadata": {
    "collapsed": true
   },
   "source": [
    "## 2 Instructions for the test persons (ISO 8253-1 ch. 5)"
   ]
  },
  {
   "cell_type": "markdown",
   "metadata": {},
   "source": [
    "(The following text in this chapter is borrowed from ISO 8253-1 ch.5 completely)\n",
    "\n",
    "The instructions shall be phrased in language appropriate to the listener and shall normally indicate:\n",
    "*  the response task\n",
    "* the need to respond whenever the tone is heard in either ear, no matter how faint it may be\n",
    "* the need to respond as soon as the tone is heard and to stop responding immediately once the tone is no\n",
    "  longer heard\n",
    "* the general pitch sequence of the tones\n",
    "* the ear to be tested first \n",
    "\n",
    "The response from the test subject indicating when the tone is heard and when it is no longer heard shall be\n",
    "clearly observable. Examples of commonly used responses are:\n",
    "* pressing and releasing a signal switch\n",
    "* raising and lowering the finger or hand"
   ]
  },
  {
   "cell_type": "markdown",
   "metadata": {},
   "source": [
    "## 3 Air conduction hearing threshold level determinations using fixed-frequency audiometry (ISO 8253-1 ch. 6)"
   ]
  },
  {
   "cell_type": "markdown",
   "metadata": {},
   "source": [
    "### 3.1 Manually controlled threshold determination (ISO 8253-1 ch. 6.2)"
   ]
  },
  {
   "cell_type": "markdown",
   "metadata": {},
   "source": [
    "Instructions: \n",
    "* Frequency range = 125 Hz - 8000 Hz (according to ISO 389-7 a frequency range of 20 Hz - 16000 Hz is also possible)\n",
    "* Continous test tone with a duration of 1-2 seconds (pulsed tones are also possible, but not recommended [ISO8253-1 ch. 6.2.1])\n",
    "* There is a break after the answer of the test person. The duration of break varies (not shorter than the duration of test tone)\n",
    "* At the beginning you have a test period to become familiar with using the sound system <br>\n",
    "  For Example:\n",
    "     * 1) Audible tone (e.g. 1000 Hz, 40 dB)\n",
    "     * 2) Decreasing level in steps of 20 dB until no answer is given\n",
    "     * 3) Increasing level in steps of 10 dB unitl an answer is given\n",
    "     * 4) Repeat the tone at the same level\n"
   ]
  },
  {
   "cell_type": "markdown",
   "metadata": {},
   "source": [
    "For a better overview for the familiarization, have a look to the flowchart below."
   ]
  },
  {
   "cell_type": "markdown",
   "metadata": {},
   "source": [
    "![flowchart_familiarization](images/flowchart_familiarization.png)"
   ]
  },
  {
   "cell_type": "markdown",
   "metadata": {},
   "source": [
    "Source: ISO 8253-1 ch. 6.2.2 has been converted into a flowchart <br> <br>\n",
    "1)* The author assumes at this point in ISO 8253-1 (penultimate paragraph in ch. 6.2.2) the following: At the end of the familiarization two tones with the same level are played. The first one is from the last 10dB-increasing and the second one \"Present Tone\" is the first one. The familiarization stops if and only if the responses of the first and second one are consistent. In the other case the familiarization will be repeated. If the repetition lead to an inconsistent result too, the instructions should be repeated. The further steps for an invalid result after this repetition is in the ISO not described.  "
   ]
  },
  {
   "cell_type": "markdown",
   "metadata": {},
   "source": [
    "#### 3.1.1 Measuring hearing threshold level without masking (ISO 8253-1 ch. 6.2.3.2)"
   ]
  },
  {
   "cell_type": "markdown",
   "metadata": {},
   "source": [
    "In this case two testing procedures are described: *ascending method* and *bracketing method*. By carrying out the two methods properly, both will provide the same hearing threshold levels. Therefore, the author has chosen to describe only the *ascending method*. The method is shown in a flow chart below."
   ]
  },
  {
   "cell_type": "markdown",
   "metadata": {
    "collapsed": false
   },
   "source": [
    "![flowchart_ascending_method](images/flowchart_ascending.png)"
   ]
  },
  {
   "cell_type": "markdown",
   "metadata": {},
   "source": [
    "Source: ISO 8253-1 ch. 6.2.3.2 has been converted into a flowchart <br> <br>\n",
    "    \n",
    "2)* \"If the results at 1 000 Hz of the repeat measurement for that ear\n",
    "agree to 5 dB or less with those of the first measurements for the same ear, proceed to the other ear. If 10 dB\n",
    "or more improvement or worsening in hearing threshold level is discernible, retest at further frequencies in the\n",
    "same order until agreement to 5 dB or less has been obtained.\" (ISO 8253-1 ch. 6.2.3.2 last paragraph in step 3)"
   ]
  },
  {
   "cell_type": "markdown",
   "metadata": {},
   "source": [
    "### 3.2 Hearing threshold determination with an automatic recording audiometer (ISO 8253-1 ch. 6.3)"
   ]
  },
  {
   "cell_type": "markdown",
   "metadata": {},
   "source": [
    "According to the method of Georg v. Békésy an automatic audiometer increases the tone continuously as long as a signal button is pressed and decreases the tone when the button is released. The tone can be either continuously or pulsed. Comparing these different audiograms (pulsed and continuously) provide information about the type of hearing loss. <br> The test parameters are described In ISO 8253-1 and DIN EN 60645-1 :  "
   ]
  },
  {
   "cell_type": "markdown",
   "metadata": {},
   "source": [
    "* Frequency range = 125 Hz - 8000 Hz (DIN 60645-1 ch. 6.1.1)\n",
    "* Velocity of frequency change \n",
    "   * Fixed frequency method: not less than 30 sec at each frequency (DIN 60645-1 ch. 6.1.4)\n",
    "   * Continuous frequency change: 1 Octave / minute (+/- 25 %) (DIN 60645-1 ch. 6.1.4)\n",
    "* Rate of change of intensity = 2.5 dB / sec (DIN 60645-1 ch. 8.4.3)"
   ]
  },
  {
   "cell_type": "markdown",
   "metadata": {},
   "source": [
    "#### 3.2.1) Parameters of a pulsed tone (DIN 60645-1 ch. 8.6.4)"
   ]
  },
  {
   "cell_type": "markdown",
   "metadata": {},
   "source": [
    "* Rise time: BC must be at least 20 ms and may not exceed 50 ms \n",
    "* Release time: EG must be at least 20 ms and may not exceed 50 ms\n",
    "* Sound pressure level has to change continuously without discontinuity between B and C and E and G\n",
    "* CE must be at least 150 ms \n",
    "* FJ and JK must be (225 +/- 40) ms\n",
    "* The level between G and I must be at least 20 dB less than the maximum of CE "
   ]
  },
  {
   "cell_type": "markdown",
   "metadata": {},
   "source": [
    "#### Envelope of pulsed tones"
   ]
  },
  {
   "cell_type": "markdown",
   "metadata": {},
   "source": [
    "<img src=\"images/envelope_of_pulsed_tones.png\" alt=\"envelope_of_pulsed_tones\" style=\"width: 800px;\"/>"
   ]
  },
  {
   "cell_type": "markdown",
   "metadata": {},
   "source": [
    "Source: DIN EN 60645-1 (figure 1)"
   ]
  },
  {
   "cell_type": "markdown",
   "metadata": {},
   "source": [
    "# 4 The Audiogram (ISO 8253-1 ch. 10)"
   ]
  },
  {
   "cell_type": "markdown",
   "metadata": {},
   "source": [
    "An audiogram represents the hearing treshold level graphically. The x-axis shows low to high frequencies in Hz from left to right and the y-axis represents the sound intensity in dBHL from soft sounds at the top to loud sounds at the bottom. The sound intensity is measured in dBHL (dB Hearing Level), because its corresponds to the average of normal hearing people. The normal hearing level refers to 0 dB. According to ISO 8253-1 ch. 10, one octave on the frequency axis shall correspond to 20 dB on the hearing level axis (see figure below). "
   ]
  },
  {
   "cell_type": "markdown",
   "metadata": {},
   "source": [
    "<img src=\"images/example_audiogram.jpg\" alt=\"example_audiogram\" style=\"width: 400px;\"/>"
   ]
  },
  {
   "cell_type": "markdown",
   "metadata": {},
   "source": [
    "Source: http://entadhearingaids.com/files/2013/04/Audiogram-NIH.jpg"
   ]
  },
  {
   "cell_type": "markdown",
   "metadata": {},
   "source": [
    "For the representation of the hearing treshold level different symbols are necessary (see table below). The measuring points are interpolated linearly: a solid line for air conduction and a dashed line for bone conduction. If colors are used, red stands for the symbol and connecting line of the right ear and blue for the symbol and connecting line of the left ear."
   ]
  },
  {
   "cell_type": "markdown",
   "metadata": {},
   "source": [
    "<img src=\"images/table_symbols_audiogram.png\" alt=\"table_symbols_audiogram\" style=\"width: 700px;\"/>"
   ]
  },
  {
   "cell_type": "markdown",
   "metadata": {},
   "source": [
    "Table: Symbols for the graphical presentation of hearing threshold levels <br> Source: DIN ISO 8253-1, ch. 10, table 1"
   ]
  },
  {
   "cell_type": "markdown",
   "metadata": {},
   "source": [
    "# 5 Calibration (ISO 389-1 ch. 4.2)"
   ]
  },
  {
   "cell_type": "markdown",
   "metadata": {},
   "source": [
    "<img src=\"images/calibration_data.png\" alt=\"table_symbols_audiogram\" style=\"width: 600px;\"/>"
   ]
  },
  {
   "cell_type": "markdown",
   "metadata": {},
   "source": [
    "Table: Recommended reference equivalent threshold sound pressure levels (RETSPL) in a coupler complying with IEC 60303 <br>\n",
    "Source: ISO389-1 (EN), ch. 4, table 1"
   ]
  },
  {
   "cell_type": "markdown",
   "metadata": {},
   "source": [
    "# 6 Links"
   ]
  },
  {
   "cell_type": "markdown",
   "metadata": {},
   "source": [
    "https://de.wikipedia.org/wiki/B%C3%A9k%C3%A9sy-Audiometrie"
   ]
  },
  {
   "cell_type": "markdown",
   "metadata": {
    "collapsed": true
   },
   "source": [
    "Georg v. Bêkêsy: A New Audiometer: http://www.tandfonline.com/doi/pdf/10.3109/00016484709123756"
   ]
  },
  {
   "cell_type": "markdown",
   "metadata": {},
   "source": [
    "http://www.who.int/entity/occupational_health/publications/noise8.pdf"
   ]
  },
  {
   "cell_type": "markdown",
   "metadata": {},
   "source": [
    "http://www.uni-oldenburg.de/fileadmin/user_upload/c3l/master/mde/download/Masterarbeit_J.-H.Schmidt.pdf"
   ]
  },
  {
   "cell_type": "markdown",
   "metadata": {},
   "source": [
    "https://en.wikipedia.org/wiki/Audiogram"
   ]
  },
  {
   "cell_type": "markdown",
   "metadata": {
    "collapsed": true
   },
   "source": [
    "# 7 Standards"
   ]
  },
  {
   "cell_type": "markdown",
   "metadata": {},
   "source": [
    "### 7.1 Audiometric test methods <br>\n",
    "\n",
    "**Part 1: DIN EN ISO 8253-1 (2011)** <br>\n",
    "**–––––––––––––––––––––––––––**\n",
    "\n",
    "GER : Akustik – Audiometrische Prüfverfahren – Teil 1: Grundlegende Verfahren der Luft- und\n",
    "Knochenleitungs-Schwellenaudiometrie mit reinen Tönen <br>\n",
    "ENG: Acoustics — Audiometric test methods — Part 1: Pure-tone air and bone conduction audiometry <br>\n",
    "FRE: Acoustique — Méthodes d'essais audiométriques — Partie 1: Audiométrie à sons purs en conduction aérienne et en\n",
    "conduction osseuse <br>\n",
    " <br> <br>\n",
    "\n",
    "**Part 2: DIN EN ISO 8253-2 (2010)** <br>\n",
    "**–––––––––––––––––––––––––––**\n",
    "\n",
    "GER: Akustik – Audiometrische Prüfverfahren – Teil 2: Schallfeld-Audiometrie mit reinen Tönen und schmalbandigen\n",
    "Prüfsignalen <br>\n",
    "ENG: Acoustics – Audiometric test methods – Part 2: Sound field audiometry with pure-tone and narrow-band test signals <br>\n",
    "FRE: Acoustique –\n",
    "Méthodes d ́essais audiométriques –\n",
    "Partie 2: Audiométrie en champ acoustique avec des sons purs et des bruits à bande\n",
    "étroite comme signaux d ́essai <br>\n",
    " <br> <br>\n",
    "\n",
    "** Part 3: DIN EN ISO 8253-3 (2012) ** <br>\n",
    "**–––––––––––––––––––––––––––**\n",
    "\n",
    "GER: Akustik – Audiometrische Prüfverfahren – Teil 3: Sprachaudiometrie <br>\n",
    "ENG: Acoustics – Audiometric test methods – Part 3: Speech audiometry <br>\n",
    "FRE: Acoustique – Méthodes d’essais audiométriques – Partie 3: Audiométrie vocale <br>\n",
    "\n"
   ]
  },
  {
   "cell_type": "markdown",
   "metadata": {},
   "source": [
    "### 7.2 Technical standards <br>\n",
    "\n",
    "**Part 1: DIN EN 60645-1 (2015) ** <br>\n",
    "**–––––––––––––––––––––––––**\n",
    "\n",
    "\n",
    "GER: Akustik – Audiometer – Teil 1: Reinton-Audiometer <br>\n",
    "ENG: Electroacoustics – Audiometric equipment – Part 1: Equipment for pure-tone audiometry <br>\n",
    "FRE: Électroacoustique – Appareils audiométriques – Partie 1: Appareils pour l ’ audiométrie tonale <br>\n",
    "\n",
    "\n",
    "** Part 2: DIN EN 60645-2 (1997) ** <br>\n",
    "**–––––––––––––––––––––––––**\n",
    "\n",
    "\n",
    "GER: Audiometer – Teil 2: Geräte für die Sprachaudiometrie <br>\n",
    "ENG: Audiometers - Part 2: Equipment for speech audiometry <br>\n",
    "FRE: Audiometres - Partie 2: Appareils pour Taudiometrie vocale <br>\n",
    "\n",
    "** Part 3: DIN EN 60645-3 (2008) ** <br>\n",
    "**–––––––––––––––––––––––––**\n",
    "\n",
    "\n",
    "GER: Akustik – Audiometer – Teil 3: Kurzzeit-Hörprüfsignale <br>\n",
    "ENG: Electroacoustics – Audiometric equipment – Part 3: Test signals of short duration <br>\n",
    "FRE: Electroacoustique – Equipements audiométriques – Partie 3: Signaux d’essai de courte durée <br>"
   ]
  },
  {
   "cell_type": "markdown",
   "metadata": {},
   "source": [
    "### 7.3 Calibration of audiometers<br>\n",
    "\n",
    "** Part 1: DIN EN ISO 389-1 (2000) ** <br>\n",
    "**––––––––––––––––––––––––––**\n",
    "\n",
    "GER: Akustik – Standard-Bezugspegel für die Kalibrierung audiometrischer Geräte – Teil 1: Äquivalente Bezugs-Schwellenschalldruckpegel für reine Töne und supra-aurale Kopfhörer <br>\n",
    "ENG: Acoustics – Reference zero for the calibration of audiometric equipment –\n",
    "Part 1: Reference equivalent threshold sound pressure levels for pure tones\n",
    "and supra-aural earphones <br> \n",
    "FRE: Acoustique – Zéro de référence pour l’étalonnage d’equipements audiométriques –\n",
    "Partie 1: Niveaux de référence équivalents de pression acoustique liminaire pour\n",
    "les écouteurs à sons purs supra-auraux <br>\n",
    "\n",
    "** Part 2: DIN EN ISO 389-2 (1996) ** <br>\n",
    "**––––––––––––––––––––––––––**\n",
    "\n",
    "GER: Akustik – Standard-Bezugspegel für die Kalibrierung audiometrischer Geräte –\n",
    "Teil 2: Äquivalente Bezugs-Schwellenschalldaickpegel für reine Töne und Einsteckhörer <br>\n",
    "ENG: Acoustics – Reference zero for the calibration of audiometric equipment –\n",
    "Part 2: Reference equivalent threshold sound pressure levels for pure tones and\n",
    "insert earphones <br> \n",
    "FRE: Acoustique – Zero de reference pour l'etalonnage d'equipments audiometriques –\n",
    "Partie 2: Niveaux de reference equivalents de pression acoustique liminaire pour\n",
    "les ecouteurs ä son purs et ä Insertion <br>\n",
    "\n",
    "** Part 3: DIN EN ISO 389-3 (1999) ** <br>\n",
    "**––––––––––––––––––––––––––**\n",
    "\n",
    "GER: Akustik – Standard-Bezugspegel für die Kalibrierung audiometrischer Geräte – \n",
    "Teil 3: Äquivalente Bezugs-Schwellenkraftpegel für reine Töne und\n",
    "Knochenleitungshörer <br>\n",
    "ENG: Acoustics – Reference zero for the calibration of audiometric equipment – Part 3:\n",
    "Reference equivalent threshold force levels for pure tones and bona vibrators <br> \n",
    "FRE: Acoustique –  Zero de reference pour l'etalonnage d'equipements audiometriques –  Partie 3; Niveaux de reference equivalents de force liminaire pour les vibrateurs ä sons purs et les ossivibrateurs <br>\n",
    "\n",
    "** Part 4: DIN EN ISO 389-4 (1999) ** <br>\n",
    "**––––––––––––––––––––––––––**\n",
    "\n",
    "GER: Akustik – Standard-Bezugspegel für die Kalibrierung audiometrischer Geräte –\n",
    "Teil 4: Bezugspegel für schmalbandige Verdeckungsgeräusche <br>\n",
    "ENG: Acoustics – Reference zero for the calibration of audiometric equipment – Part 4:\n",
    "Reference levels for narrow-band masking noise <br> \n",
    "FRE: Acoustique – Zero de reference pour l'etalonnage d'equipements audiometriques – Partie 4: Niveaux de reference pour brult masque en bände etroite <br>\n",
    "\n",
    "** Part 5: DIN EN ISO 389-5 (2007) ** <br>\n",
    "**––––––––––––––––––––––––––**\n",
    "\n",
    "GER: Akustik – Standard-Bezugspegel für die Kalibrierung audiometrischer Geräte –\n",
    "Teil 5: Äquivalente Bezugs-Schwellenschalldruckpegel für reine Töne im\n",
    "Frequenzbereich 8 kHz bis 16 kHz <br>\n",
    "ENG: Acoustics – Reference zero for the calibration of audiometric equipment –\n",
    "Part 5: Reference equivalent threshold sound pressure levels for pure tones in the\n",
    "frequency range 8 kHz to 16 kHz <br> \n",
    "FRE: Acoustique – Zéro de référence pour l’étalonnage d’équipements audiométriques –\n",
    "Partie 5: Niveaux de référence équivalents de pression acoustique liminaire pour les sons\n",
    "purs dans le domaine de fréquences de 8 kHz à 16 kHz<br>\n",
    "\n",
    "** Part 6: DIN EN ISO 389-6 (2007) ** <br>\n",
    "**––––––––––––––––––––––––––**\n",
    "\n",
    "GER: Akustik – Standard-Bezugspegel für die Kalibrierung audiometrischer Geräte –\n",
    "Teil 6: Äquivalente Bezugs-Schwellenschalldruckpegel für akustische\n",
    "Kurzzeit-Testsignale <br>\n",
    "ENG: Acoustics – Reference zero for the calibration of audiometric equipment –\n",
    "Part 6: Reference threshold of hearing for test signals of short duration <br> \n",
    "FRE: Acoustique –\n",
    "Zéro de référence pour l’étalonnage d’équipements audiométriques –\n",
    "Partie 6: Niveaux liminaires d’audition de référence pour signaux d’essai de courte durée <br>\n",
    "\n",
    "** Part 7: DIN EN ISO 389-7 (2006) ** <br>\n",
    "**––––––––––––––––––––––––––**\n",
    "\n",
    "GER: Akustik –\n",
    "Standard-Bezugspegel für die Kalibrierung von audiometrischen\n",
    "Geräten –\n",
    "Teil 7: Bezugshörschwellen unter Freifeld- und Diffusfeldbedingungen <br>\n",
    "ENG: Acoustics –\n",
    "Reference zero for the calibration of audiometric equipment –\n",
    "Part 7: Reference threshold of hearing under free-field and diffuse-field listening\n",
    "conditions <br> \n",
    "FRE: Acoustique –\n",
    "Zéro de référence pour l’étalonnage d’équipements audiométriques –\n",
    "Partie 7: Niveau liminaire de référence dans des conditions d’écoute en champ libre et en\n",
    "champ diffus <br> \n",
    "\n",
    "** Part 8: DIN EN ISO 389-8 (2004) ** <br>\n",
    "**––––––––––––––––––––––––––**\n",
    "\n",
    "GER: Akustik – Standard-Bezugspegel für die Kalibrierung audiometrischer Geräte –\n",
    "Teil 8: Äquivalente Bezugs-Schwellenschalldruckpegel für reine Töne\n",
    "und circumaurale Kopfhörer <br>\n",
    "ENG: Acoustics –\n",
    "Reference zero for the calibration of audiometric equipment –\n",
    "Part 8: Reference equivalent threshold sound pressure levels for pure tones and\n",
    "circumaural earphones <br> \n",
    "FRE: Acoustique –\n",
    "Zéro de référence pour l’étalonnage d’équipements audiométriques –\n",
    "Partie 8: Niveaux de référence équivalents de pression acoustique liminaire pour les\n",
    "écouteurs à sons purs circumauraux <br>\n",
    "\n",
    "** Part 9: DIN EN ISO 389-9 (2009) ** <br>\n",
    "**––––––––––––––––––––––––––**\n",
    "\n",
    "GER: Akustik –\n",
    "Standard-Bezugspegel für die Kalibrierung audiometrischer Geräte –\n",
    "Teil 9: Vorzugs-Messbedingungen zur Bestimmung von\n",
    "Bezugs-Hörschwellenpegeln <br>\n",
    "ENG: Acoustics –\n",
    "Reference zero for the calibration of audiometric equipment –\n",
    "Part 9: Preferred test conditions for the determination of reference hearing threshold\n",
    "levels <br> \n",
    "FRE: Acoustique –\n",
    "Zéro de référence pour l ́étalonnage d ́équipements audiométriques –\n",
    "Partie 9: Conditions d ́essai préconisées pour la détermination des niveaux liminaires\n",
    "d ́audition de référence <br>\n"
   ]
  },
  {
   "cell_type": "code",
   "execution_count": null,
   "metadata": {
    "collapsed": true
   },
   "outputs": [],
   "source": []
  }
 ],
 "metadata": {
  "kernelspec": {
   "display_name": "Python 3",
   "language": "python",
   "name": "python3"
  },
  "language_info": {
   "codemirror_mode": {
    "name": "ipython",
    "version": 3
   },
   "file_extension": ".py",
   "mimetype": "text/x-python",
   "name": "python",
   "nbconvert_exporter": "python",
   "pygments_lexer": "ipython3",
   "version": "3.4.3+"
  }
 },
 "nbformat": 4,
 "nbformat_minor": 0
}
